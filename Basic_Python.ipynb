{
  "cells": [
    {
      "cell_type": "markdown",
      "metadata": {
        "id": "S1QWp2t-fhWP"
      },
      "source": [
        "## iPython, Python, and our Expectations\n",
        "\n",
        "This homework and all subsequent homeworks will use iPython in a Jupyter notebook. iPython is just an interactive shell for programming in the Python language. A few years ago, the developers created a generic interactive shell called Jupyter that supports languages beyond just Python. This can be a bit confusing, and we'll add a bit to the confusion by referring to iPython and Jupyter interchangeably in this course.\n",
        "\n",
        "With respect to Python, we do not expect you to have any prior experience. We do, however, expect you to have proficiency in some programming language (so you've seen loops, conditionals, functions, etc.) and a willingness to experiment and learn on your own. Python is a fun language and you should be able to pick up the necessary portions as we move along; however, this may require you to spend some extra cycles consulting online documentation, referring to a Python book, or scouring over StackOverflow. \n",
        "\n",
        "A few basic Python pointers:\n",
        "* http://introtopython.org\n",
        "* http://ricardoduarte.github.io/python-for-developers/\n",
        "* http://mbakker7.github.io/exploratory_computing_with_python/ [particularly the basic Python language ones]\n",
        "\n",
        "We expect your code to be well-documented with appropriate comments. We prefer meaningful variable names and function names. We also expect your code to be compact and sensible -- no super-long lines, nor dense unintelligible lines of code.\n",
        "\n",
        "Note that in this course we will use Python 3.7.\n",
        "\n",
        "In general, Python code is often run from standalone Python modules or files; for this class, we will often run Python from here within the iPython notebook.\n",
        "\n",
        "Now that you're ready, let's take a look at this iPython notebook. You'll notice that it is composed of cells. Some cells have text (like this one), while others contain code and comments. This cell is written in **Markdown**, a simple text-to-HTML language. You can find a cheat sheet for Markdown here: https://github.com/adam-p/markdown-here/wiki/Markdown-Cheatsheet. You can toggle a cell between Markdown and code with the toggle button up there on the menu bar.\n",
        "\n",
        "The cell below contains code and can be **executed** by hitting the **Play** button on the menu bar or by hitting **shift + enter**."
      ]
    },
    {
      "cell_type": "code",
      "execution_count": null,
      "metadata": {
        "id": "zcDZjFx4fhWQ",
        "colab": {
          "base_uri": "https://localhost:8080/"
        },
        "outputId": "918d2277-d39c-4c97-f5f5-bee779eaebce"
      },
      "outputs": [
        {
          "output_type": "stream",
          "name": "stdout",
          "text": [
            "Hello world!\n"
          ]
        }
      ],
      "source": [
        "# this is a comment\n",
        "# you can execute this cell by hitting shift+enter\n",
        "# the output will appear immediately below\n",
        "print('Hello world!')"
      ]
    },
    {
      "cell_type": "markdown",
      "metadata": {
        "id": "UrobgZ4FfhWR"
      },
      "source": [
        "Since iPython is just an interactive shell around Python, you can define functions. For example:"
      ]
    },
    {
      "cell_type": "code",
      "execution_count": null,
      "metadata": {
        "id": "UaG3NHkffhWR",
        "colab": {
          "base_uri": "https://localhost:8080/"
        },
        "outputId": "a30eb7cc-ab0f-4b62-fbef-961ec280ced5"
      },
      "outputs": [
        {
          "output_type": "execute_result",
          "data": {
            "text/plain": [
              "27"
            ]
          },
          "metadata": {},
          "execution_count": 104
        }
      ],
      "source": [
        "def cubed(x):\n",
        "    \"\"\" Return the cube of a  \n",
        "        value \"\"\"\n",
        "    return x ** 3\n",
        "\n",
        "cubed(3)"
      ]
    },
    {
      "cell_type": "markdown",
      "metadata": {
        "id": "T-VfKpiVfhWS"
      },
      "source": [
        "You can even access the filesystem with commands like `ls` or `pwd`:"
      ]
    },
    {
      "cell_type": "code",
      "execution_count": null,
      "metadata": {
        "id": "xvEh2d33fhWS",
        "colab": {
          "base_uri": "https://localhost:8080/"
        },
        "outputId": "d14eaf8c-111d-4dde-c2ca-d3d1f80e37ff"
      },
      "outputs": [
        {
          "output_type": "stream",
          "name": "stdout",
          "text": [
            "/content\n",
            "sample_data\n"
          ]
        }
      ],
      "source": [
        "!pwd\n",
        "!ls"
      ]
    },
    {
      "cell_type": "markdown",
      "metadata": {
        "id": "ZC12PN5nfhWT"
      },
      "source": [
        "## Getting Started with Numpy and matplotlib\n",
        "\n",
        "In this part, we're going to get familiar with two important libraries -- Numpy and matplotlib.\n",
        "\n",
        "### Into to Numpy\n",
        "Since Python is an interpreted language, it might not seem like the best choice for data-intensive work. Luckily, almost all of our data workflow stack is built on top of Numpy, a Python library that adds support for large, multi-dimensional arrays and matrices, along with a large library of high-level mathematical functions to operate on these arrays."
      ]
    },
    {
      "cell_type": "code",
      "execution_count": null,
      "metadata": {
        "id": "5O6Za9UefhWU",
        "colab": {
          "base_uri": "https://localhost:8080/"
        },
        "outputId": "2d56c3aa-28fa-4c39-85ac-5d2732fab83b"
      },
      "outputs": [
        {
          "output_type": "stream",
          "name": "stdout",
          "text": [
            "Make a 4 row x 2 column matrix of random numbers\n",
            "[[0.891239   0.50706376]\n",
            " [0.41031229 0.38470164]\n",
            " [0.60962113 0.60496489]\n",
            " [0.98194628 0.70627861]]\n",
            "\n",
            "Add 10 to every element\n",
            "[[10.891239   10.50706376]\n",
            " [10.41031229 10.38470164]\n",
            " [10.60962113 10.60496489]\n",
            " [10.98194628 10.70627861]]\n",
            "\n",
            "Get the element at row 3, column 1\n",
            "10.706278611567521\n",
            "\n",
            "Get the first row\n",
            "[10.891239   10.50706376]\n",
            "\n",
            "Get the first two rows\n",
            "[[10.891239   10.50706376]\n",
            " [10.41031229 10.38470164]]\n",
            "\n"
          ]
        }
      ],
      "source": [
        "import numpy as np\n",
        "\n",
        "print(\"Make a 4 row x 2 column matrix of random numbers\")\n",
        "x = np.random.random((4, 2))\n",
        "print(x)\n",
        "print()\n",
        "\n",
        "print(\"Add 10 to every element\")\n",
        "x = x + 10\n",
        "print(x)\n",
        "print()\n",
        "\n",
        "print(\"Get the element at row 3, column 1\")\n",
        "print(x[3, 1])\n",
        "print()\n",
        "\n",
        "print(\"Get the first row\")\n",
        "print(x[0, :])\n",
        "print()\n",
        "\n",
        "print(\"Get the first two rows\")\n",
        "print(x[:2])\n",
        "print()"
      ]
    },
    {
      "cell_type": "markdown",
      "metadata": {
        "id": "Ox6b6yhOfhWU"
      },
      "source": [
        "Now, it's your turn. Find the maximum, minimum, and mean of the array. This does not require writing a loop. In the code cell below, type `x.m<TAB>`, to find built-in operations that may help you out."
      ]
    },
    {
      "cell_type": "code",
      "execution_count": null,
      "metadata": {
        "id": "M0dStGRGfhWU",
        "colab": {
          "base_uri": "https://localhost:8080/"
        },
        "outputId": "64d0e823-48ab-4bd0-d4e6-cbcdaacb100d"
      },
      "outputs": [
        {
          "output_type": "stream",
          "name": "stdout",
          "text": [
            "10.981946283850341\n",
            "10.384701641922513\n"
          ]
        }
      ],
      "source": [
        "# your code here\n",
        "#max\n",
        "maximum_value=x.max();\n",
        "minimum_value=x.min();\n",
        "print(maximum_value)\n",
        "print(minimum_value)"
      ]
    },
    {
      "cell_type": "markdown",
      "metadata": {
        "id": "dQ4h8udCfhWV"
      },
      "source": [
        "That wasy easy! Now, let's see if you can generate 500 numbers from a uniform distribution between 0 and 10,000, inclusive. That is each random number could be 0, 1, 2, ..., 10,000 with equal chance. What is the maximum, minimum, and mean of these 500 random numbers? *Hint: take a look at np.random* "
      ]
    },
    {
      "cell_type": "code",
      "execution_count": null,
      "metadata": {
        "id": "zRhXS15bfhWV",
        "colab": {
          "base_uri": "https://localhost:8080/"
        },
        "outputId": "516497cb-e2f4-473d-e8d4-e1ea441ad3af"
      },
      "outputs": [
        {
          "output_type": "stream",
          "name": "stdout",
          "text": [
            "maximum= 9982.57048168208\n",
            "minimum= 5.940335995726631\n",
            "mean= 5014.364654689232\n"
          ]
        }
      ],
      "source": [
        "from numpy.random.mtrand import rand\n",
        "# your code here\n",
        "uni=np.random.uniform(0,10000,500)\n",
        "#print(uni)\n",
        "print(\"maximum=\", uni.max())\n",
        "print(\"minimum=\", uni.min())\n",
        "print(\"mean=\", uni.mean())"
      ]
    },
    {
      "cell_type": "markdown",
      "metadata": {
        "id": "POx73VZIfhWV"
      },
      "source": [
        "### Intro to matplotlib\n",
        "The most widespread Python plotting library is matplotlib. With it, you can create graphs, charts, basic maps, and other data visualizations. Later in the semester, we'll use `seaborn`, a library built on top of matplotlib that provides even more beautiful charts.\n",
        "\n",
        "Below, we provide some simple x and y coordinates that are then plotted. You should update the plot to include:\n",
        "* a label for the x-axis (call it 'X-axis')\n",
        "* a label for the y-axis (call it 'Y-axis')\n",
        "* a label for the x, y1 curve (call it 'Alice')\n",
        "* a label for the x, y2 curve (call it 'Bob')\n",
        "* a legend in the lower right corner"
      ]
    },
    {
      "cell_type": "code",
      "execution_count": null,
      "metadata": {
        "id": "luHORxgcfhWV",
        "colab": {
          "base_uri": "https://localhost:8080/",
          "height": 296
        },
        "outputId": "df17bb84-71ba-4d80-95e8-4d1f6f157e88"
      },
      "outputs": [
        {
          "output_type": "execute_result",
          "data": {
            "text/plain": [
              "<matplotlib.legend.Legend at 0x7f1be95315e0>"
            ]
          },
          "metadata": {},
          "execution_count": 109
        },
        {
          "output_type": "display_data",
          "data": {
            "text/plain": [
              "<Figure size 432x288 with 1 Axes>"
            ],
            "image/png": "[encoded data removed]"
          },
          "metadata": {
            "needs_background": "light"
          }
        }
      ],
      "source": [
        "# this line prepares IPython for working with matplotlib\n",
        "%matplotlib inline  \n",
        "\n",
        "import matplotlib.pyplot as plt  \n",
        "\n",
        "x = [0, 1, 2, 3, 4]  \n",
        "y1 = [10, 12, 10, 10, 12]\n",
        "y2 = [8, 9, 9, 11, 12]\n",
        "#plt.plot(x, y1)\n",
        "#plt.plot(x, y2) \n",
        "# your code here (plus you may need to modify the previous two lines)\n",
        "plt.xlabel(\"X-axis\")\n",
        "plt.ylabel(\"Y-axis\")\n",
        "plt.plot(x, y1, label=\"Alice\")\n",
        "plt.plot(x, y2, label=\"Bob\")\n",
        "plt.legend(loc=\"lower right\")"
      ]
    },
    {
      "cell_type": "markdown",
      "metadata": {
        "id": "BWdb229MfhWW"
      },
      "source": [
        "## Python Data Structures\n",
        "Here we introduce some of the popular built-in data structures in Python: list, set and dictionary.\n",
        "#### List"
      ]
    },
    {
      "cell_type": "code",
      "execution_count": null,
      "metadata": {
        "id": "-cz3pkbcfhWW",
        "colab": {
          "base_uri": "https://localhost:8080/"
        },
        "outputId": "918e726e-9016-41e4-aed4-cba5f23eac5b"
      },
      "outputs": [
        {
          "output_type": "stream",
          "name": "stdout",
          "text": [
            "Add item 7 to the list\n",
            "[1, 5, 6, 3, 4, 0, 7]\n",
            "\n",
            "Remove item 4 from the list\n",
            "[1, 5, 6, 3, 0, 7]\n",
            "\n",
            "Insert item 3 at a position 2\n",
            "[1, 5, 3, 6, 3, 0, 7]\n",
            "\n"
          ]
        }
      ],
      "source": [
        "x=[1, 5, 6, 3, 4, 0]\n",
        "print('Add item 7 to the list')\n",
        "x.append(7)\n",
        "print(x)\n",
        "print()\n",
        "\n",
        "print('Remove item 4 from the list')\n",
        "x.remove(4)\n",
        "print(x)\n",
        "print()\n",
        "\n",
        "print('Insert item 3 at a position 2')\n",
        "x.insert(2,3)\n",
        "print(x)\n",
        "print()"
      ]
    },
    {
      "cell_type": "markdown",
      "metadata": {
        "id": "mIQUKdnlfhWW"
      },
      "source": [
        "Now, it's your turn. Sort the list and then reverse the list. In the code cell below, type x.<TAB>, to find built-in operations that may help you out."
      ]
    },
    {
      "cell_type": "code",
      "execution_count": null,
      "metadata": {
        "id": "6BSkzaX8fhWW",
        "colab": {
          "base_uri": "https://localhost:8080/"
        },
        "outputId": "dc9568a3-d04c-4048-f071-a436e5f71967"
      },
      "outputs": [
        {
          "output_type": "stream",
          "name": "stdout",
          "text": [
            "sortedlist:\n",
            "[0, 1, 3, 3, 5, 6, 7]\n",
            "\n",
            "reversedlist:\n",
            "[7, 6, 5, 3, 3, 1, 0]\n"
          ]
        }
      ],
      "source": [
        "#your code here\n",
        "x.sort()\n",
        "print(\"sortedlist:\")\n",
        "print(x)\n",
        "print()\n",
        "x.sort(reverse=True)\n",
        "print(\"reversedlist:\")\n",
        "print(x)"
      ]
    },
    {
      "cell_type": "markdown",
      "metadata": {
        "id": "q1AwAvymfhWW"
      },
      "source": [
        "#### Set \n",
        "A set is an unordered collection with no duplicate elements."
      ]
    },
    {
      "cell_type": "code",
      "execution_count": null,
      "metadata": {
        "id": "LY_ue5wpfhWX",
        "colab": {
          "base_uri": "https://localhost:8080/"
        },
        "outputId": "824fc5f4-bfc2-4646-d5db-ab303a767903"
      },
      "outputs": [
        {
          "output_type": "stream",
          "name": "stdout",
          "text": [
            "{1, 2, 'a', 'c'}\n",
            "{'c', 4, 5, 'd'}\n",
            "\n",
            "Check if item a is in set s1\n",
            "True\n",
            "\n",
            "return union of s1 and s2\n",
            "{1, 2, 'a', 4, 5, 'c', 'd'}\n",
            "\n",
            "return intersection of s1 and s2\n",
            "{'c'}\n",
            "\n"
          ]
        }
      ],
      "source": [
        "s1=set([1,2,'a','c'])\n",
        "s2=set([4,5,'d','c'])\n",
        "print(s1)\n",
        "print(s2)\n",
        "print()\n",
        "\n",
        "print('Check if item a is in set s1')\n",
        "print('a' in s1)\n",
        "print()\n",
        "\n",
        "print('return union of s1 and s2')\n",
        "print(s1.union(s2))\n",
        "print()\n",
        "\n",
        "print('return intersection of s1 and s2')\n",
        "print(s1.intersection(s2))\n",
        "print()"
      ]
    },
    {
      "cell_type": "markdown",
      "metadata": {
        "id": "4pHeG_ATfhWX"
      },
      "source": [
        "Now it's your turn to try out .add(), .remove(), .issubset() and .issuperset() built-in operations and report the results. "
      ]
    },
    {
      "cell_type": "code",
      "execution_count": null,
      "metadata": {
        "id": "rjPtkfnEfhWX",
        "colab": {
          "base_uri": "https://localhost:8080/"
        },
        "outputId": "14d0d020-b8cb-4cb6-bba7-e9799f299304"
      },
      "outputs": [
        {
          "output_type": "stream",
          "name": "stdout",
          "text": [
            "{1, 2, 'a', 10, 'c'}\n",
            "\n",
            "{'c', 5, 'd'}\n",
            "\n",
            "s2 is a Subset of s1 or not\n",
            "False\n",
            "\n",
            "s1 is a Superset of s2 or not\n",
            "False\n",
            "\n",
            "s2 is a Subset of s1 or not\n",
            "True\n",
            "\n",
            "s1 is a Superset of s2 or not\n",
            "True\n",
            "\n"
          ]
        }
      ],
      "source": [
        "#your code here\n",
        "s1.add(10)\n",
        "print(s1)\n",
        "print()\n",
        "s2.remove(4)\n",
        "print(s2)\n",
        "print()\n",
        "print(\"s2 is a Subset of s1 or not\")\n",
        "print(s2.issubset(s1))\n",
        "print()\n",
        "print(\"s1 is a Superset of s2 or not\")\n",
        "print(s1.issuperset(s2))\n",
        "print()\n",
        "s1.add(5)\n",
        "s2.remove('d')\n",
        "print(\"s2 is a Subset of s1 or not\")\n",
        "print(s2.issubset(s1))\n",
        "print()\n",
        "print(\"s1 is a Superset of s2 or not\")\n",
        "print(s1.issuperset(s2))\n",
        "print()"
      ]
    },
    {
      "cell_type": "markdown",
      "metadata": {
        "id": "ynz_1mYGfhWX"
      },
      "source": [
        "#### Dictionary\n",
        "Unlike sequential data structures, which are indexed by a range of numbers, dictionaries are indexed by keys, which can be any type like strings and numbers.\n"
      ]
    },
    {
      "cell_type": "code",
      "execution_count": null,
      "metadata": {
        "id": "NSYPyapkfhWX",
        "colab": {
          "base_uri": "https://localhost:8080/"
        },
        "outputId": "b45302fb-9efb-4492-bf1b-060f02a1020a"
      },
      "outputs": [
        {
          "output_type": "stream",
          "name": "stdout",
          "text": [
            "{'fruit': ['apple', 'orange'], 'animal': ['cat', 'dog']}\n",
            "\n",
            "add food with value of soup\n",
            "{'fruit': ['apple', 'orange'], 'animal': ['cat', 'dog'], 'food': ['soup']}\n",
            "\n",
            "add value of banana into fruit\n",
            "{'fruit': ['apple', 'orange', 'banana'], 'animal': ['cat', 'dog'], 'food': ['soup']}\n"
          ]
        }
      ],
      "source": [
        "dic = {'fruit': ['apple', 'orange'], 'animal': ['cat', 'dog']}\n",
        "print(dic)\n",
        "print()\n",
        "\n",
        "print('add food with value of soup')\n",
        "dic['food']=['soup']\n",
        "print(dic)\n",
        "print()\n",
        "\n",
        "print('add value of banana into fruit')\n",
        "dic['fruit'].append('banana')\n",
        "print(dic)\n"
      ]
    },
    {
      "cell_type": "markdown",
      "metadata": {
        "id": "0xhF9FQwfhWX"
      },
      "source": [
        "Create a dictionary where the keys are integer numbers from 0 to 10 and the corresponding values are the square of the key value.  "
      ]
    },
    {
      "cell_type": "code",
      "execution_count": null,
      "metadata": {
        "id": "_26FZ3IifhWX",
        "colab": {
          "base_uri": "https://localhost:8080/"
        },
        "outputId": "0151e388-c7e4-4f19-d51c-230979a9cccf"
      },
      "outputs": [
        {
          "output_type": "stream",
          "name": "stdout",
          "text": [
            "{0: 0, 1: 1, 2: 4, 3: 9, 4: 16, 5: 25, 6: 36, 7: 49, 8: 64, 9: 81}\n"
          ]
        }
      ],
      "source": [
        "# your code here\n",
        "new_dic={}\n",
        "for i in range(10):\n",
        "    new_dic[i]=i**2\n",
        "\n",
        "print(new_dic)"
      ]
    },
    {
      "cell_type": "markdown",
      "metadata": {
        "id": "0x6yxq50fhWY"
      },
      "source": [
        "## Getting started with File Input & Output\n",
        "\n",
        "Python can easily handle reading and writing files. As far as Python is concerned, a file is just a string (often very large!) stored on your local file system, that you can read or write, gradually or all together.\n",
        "\n",
        "### Writing Files\n",
        "\n",
        "*open()* returns a file object, and is most commonly used with two arguments: *open(filename, mode)*."
      ]
    },
    {
      "cell_type": "code",
      "execution_count": null,
      "metadata": {
        "id": "ap4nZeRTfhWY"
      },
      "outputs": [],
      "source": [
        "outFile = open('sample.txt', 'w')\n",
        "outFile.write('The first line\\nThe second line\\nThe third line\\n')\n",
        "outFile.close()"
      ]
    },
    {
      "cell_type": "markdown",
      "metadata": {
        "id": "W1ELtGE8fhWY"
      },
      "source": [
        "The first line creates a file object, which links Python to your computer’s file system. The first parameter in the file constructor gives the file name, *sample.txt*. The second parameter indicates how you use the file. The 'w' is short for **w**rite. If the file already existed, the old contents are destroyed.\n",
        "\n",
        "And 'a' opens the file for **a**ppending; any data written to the file is automatically added to the end. 'r+' opens the file for both reading and writing.\n",
        "\n",
        "The *close* line is essential for Python to make sure everything is really written, and to relinquish control of the file."
      ]
    },
    {
      "cell_type": "markdown",
      "metadata": {
        "id": "TenFSov1fhWY"
      },
      "source": [
        "### Methods of File Objects\n",
        "\n",
        "To read a file’s contents, call *f.read(size)*, which reads some quantity of data and returns it as a string. *size* is an optional numeric argument. When *size* is omitted or negative, the entire contents of the file will be read and returned."
      ]
    },
    {
      "cell_type": "code",
      "execution_count": null,
      "metadata": {
        "id": "NG-8oDRhfhWY",
        "colab": {
          "base_uri": "https://localhost:8080/",
          "height": 36
        },
        "outputId": "786a560c-4210-49e3-9b76-3860d4499035"
      },
      "outputs": [
        {
          "output_type": "execute_result",
          "data": {
            "text/plain": [
              "'The first line\\nThe second line\\nThe third line\\n'"
            ],
            "application/vnd.google.colaboratory.intrinsic+json": {
              "type": "string"
            }
          },
          "metadata": {},
          "execution_count": 118
        }
      ],
      "source": [
        "outFile = open('sample.txt', 'r')\n",
        "outFile.read()"
      ]
    },
    {
      "cell_type": "markdown",
      "metadata": {
        "id": "pxGqf4DUfhWY"
      },
      "source": [
        "For reading lines from a file, you can loop over the file object. This is memory efficient, fast, and leads to simple code:"
      ]
    },
    {
      "cell_type": "code",
      "execution_count": null,
      "metadata": {
        "id": "zVp9mo8lfhWZ",
        "colab": {
          "base_uri": "https://localhost:8080/"
        },
        "outputId": "71845c1a-dd00-4c28-9e69-0046ab835dc6"
      },
      "outputs": [
        {
          "output_type": "stream",
          "name": "stdout",
          "text": [
            "The first line\n",
            "The second line\n",
            "The third line\n"
          ]
        }
      ],
      "source": [
        "outFile = open('sample.txt', 'r')\n",
        "for line in outFile:\n",
        "    print(line, end='')"
      ]
    },
    {
      "cell_type": "markdown",
      "metadata": {
        "id": "jaq30gu7fhWZ"
      },
      "source": [
        "It is good practice to use the *with* keyword when dealing with file objects. This has the advantage that the file is properly closed after its suite finishes, even if an exception is raised on the way. It is also much shorter than writing equivalent try-finally blocks:"
      ]
    },
    {
      "cell_type": "code",
      "execution_count": null,
      "metadata": {
        "id": "vBtg6P9jfhWZ",
        "colab": {
          "base_uri": "https://localhost:8080/",
          "height": 36
        },
        "outputId": "f5870ae8-a7ab-452b-afde-a8fc8a4df257"
      },
      "outputs": [
        {
          "output_type": "execute_result",
          "data": {
            "text/plain": [
              "'The first line\\nThe second line\\nThe third line\\n'"
            ],
            "application/vnd.google.colaboratory.intrinsic+json": {
              "type": "string"
            }
          },
          "metadata": {},
          "execution_count": 120
        }
      ],
      "source": [
        "with open('sample.txt', 'r') as f:\n",
        "    outFile = f.read()\n",
        "outFile"
      ]
    },
    {
      "cell_type": "code",
      "execution_count": null,
      "metadata": {
        "id": "6Ra-Q-A6fhWZ",
        "colab": {
          "base_uri": "https://localhost:8080/"
        },
        "outputId": "ef18af66-95df-46de-c85b-af34c9eeacee"
      },
      "outputs": [
        {
          "output_type": "execute_result",
          "data": {
            "text/plain": [
              "True"
            ]
          },
          "metadata": {},
          "execution_count": 121
        }
      ],
      "source": [
        "f.closed"
      ]
    },
    {
      "cell_type": "code",
      "execution_count": null,
      "metadata": {
        "id": "wiwK3MGcfhWZ"
      },
      "outputs": [],
      "source": [
        "with open('sample.txt', 'a') as f:\n",
        "    f.write('The fourth line\\n')"
      ]
    },
    {
      "cell_type": "code",
      "execution_count": null,
      "metadata": {
        "id": "6iOQ_Oy5fhWZ",
        "colab": {
          "base_uri": "https://localhost:8080/"
        },
        "outputId": "949fa25c-76b4-4ddf-ad0d-8a26f0a2c8cf"
      },
      "outputs": [
        {
          "output_type": "stream",
          "name": "stdout",
          "text": [
            "['The first line\\n', 'The second line\\n', 'The third line\\n', 'The fourth line\\n']\n"
          ]
        }
      ],
      "source": [
        "with open('sample.txt', 'r') as f:\n",
        "    print(f.readlines())  # readlines – reads the entire file and returns it as a list of strings"
      ]
    },
    {
      "cell_type": "markdown",
      "metadata": {
        "id": "dZr34onIfhWZ"
      },
      "source": [
        "### Open a Remote File via URL\n",
        "\n",
        "Python can easily access the content of a webpage via its URL, and print out locally line-by-line without saving a local copy of the file. "
      ]
    },
    {
      "cell_type": "code",
      "execution_count": null,
      "metadata": {
        "id": "_3nJSKZGfhWZ",
        "colab": {
          "base_uri": "https://localhost:8080/"
        },
        "outputId": "4cc6e0ab-b4de-4b80-92d8-5a279d70dc3d"
      },
      "outputs": [
        {
          "output_type": "stream",
          "name": "stdout",
          "text": [
            "200\n",
            "\n",
            "Aggie Culture\n",
            "\n",
            "\n",
            "Aggie Terminology\n",
            "There are many terms and phrases that are unique to Texas A&amp;M, and you'll often hear Aggies using them when speaking to one another. These words are often rooted in history and tradition, much like the university itself.\n",
            "\n",
            "\n",
            "1889\n",
            "Aggie Ring\n",
            "The Aggie Ring is the most recognizable symbol of the Aggie Network, creating an instant connection between Aggies long after they leave the university.\n",
            "\n",
            "\n",
            "\n",
            "Century Tree\n",
            "At over 100 years old, the Century Tree has grown along with the university over the decades.\n",
            "\n",
            "\n",
            "1918\n",
            "Pennies on Sully\n",
            "Placing pennies at the base of the Sul Ross statue on campus just might give an Aggie the extra luck he or she needs to ace an upcoming exam.\n",
            "\n",
            "\n",
            "1926\n",
            "Elephant Walk\n",
            "This tradition, which brings the senior class together for a symbolic walk through campus, is one of the oldest at Texas A&amp;M.\n",
            "\n",
            "\n",
            "1931\n",
            "Reveille\n",
            "Reveille is the official mascot of Texas A&amp;M, and she can often be seen on campus in class or attending events.\n",
            "\n",
            "\n",
            "1982\n",
            "The Big Event\n",
            "This unique tradition is the largest one-day student-run service project in the United States.\n",
            "\n",
            "\n",
            "1991\n",
            "Replant\n",
            "Each year, Aggies help plant hundreds of trees at local parks and schools.\n",
            "\n",
            "\n"
          ]
        },
        {
          "output_type": "stream",
          "name": "stderr",
          "text": [
            "/usr/local/lib/python3.8/dist-packages/urllib3/connectionpool.py:842: InsecureRequestWarning: Unverified HTTPS request is being made. Adding certificate verification is strongly advised. See: https://urllib3.readthedocs.io/en/latest/advanced-usage.html#ssl-warnings\n",
            "  warnings.warn((\n"
          ]
        }
      ],
      "source": [
        "import urllib3  # the lib that handles the url stuff\n",
        "\n",
        "url = \"https://www.tamu.edu/traditions/aggie-culture/\"\n",
        "\n",
        "# your code here: open the url. Hint: take a look at urllib3.PoolManager\n",
        "# your code here: now print out each line\n",
        "\n",
        "http=urllib3.PoolManager()\n",
        "content=http.request('GET', url)\n",
        "#resp = http.request(\n",
        "#    'GET',\n",
        "#    url,\n",
        "#    preload_content=False)\n",
        "\n",
        "#for chunk in resp.stream(1024):\n",
        " # print(chunk)\n",
        "\n",
        "#print()\n",
        "print(content.status)\n",
        "#print(content.data)\n",
        "print()\n",
        "data=content.data.decode('utf-8')\n",
        "data=data.split('\\n')\n",
        "for lines in data:\n",
        " #print(lines)#, end=' ')\n",
        " if(lines.find('<h1>')!=-1):\n",
        "    hh1=lines.split('<h1>',1)\n",
        "    hh2=hh1[1].split('</h1>',1)\n",
        "  #if(s1.\n",
        "    print(hh2[0])\n",
        "    print()\n",
        " if(lines.find('<h2>')!=-1):\n",
        "    #print(lines)\n",
        "    h1=lines.split('<h2>',1)\n",
        "    h2=h1[1].split('</h2>',1)\n",
        "   # print(h2[0])\n",
        "    #print()\n",
        "    #index=h2[0].find('<span>', ' ')\n",
        "    if(h2[0].find('<span>')!=-1):\n",
        "      h3=h2[0].replace('<span>', '\\n')\n",
        "      h3=h3.split('</span>')\n",
        "      print(h3[0])\n",
        "    else:\n",
        "      print(h2[0])\n",
        "    \n",
        "    #print()\n",
        " if(lines.find('<p>')!=-1):\n",
        "    s1=lines.split('<p>',1)\n",
        "    s2=s1[1].split('</p>',1)\n",
        "  #if(s1.\n",
        "    print(s2[0])\n",
        "    print()\n",
        "    print()\n"
      ]
    },
    {
      "cell_type": "markdown",
      "metadata": {
        "id": "mRBLzLFlfhWa"
      },
      "source": [
        "## Counting Word Frequency\n",
        "\n",
        "One of the most fundamental tasks in many text-based data mining activities is to count the frequency of each word in a document.\n",
        "\n",
        "In the following example, we start with a string and split it into a list. We then create an (initially empty) list called *wordfreq*, go through each word in the *wordlist*, and count the number of times that word appears in the whole list. We then add each word’s count to our wordfreq list. Using the *zip* operation, we are able to match the first word of the word list with the first number in the frequency list, the second word and second frequency, and so on. We end up with a list of word and frequency pairs. The *str* function converts any object to a string so that it can be printed."
      ]
    },
    {
      "cell_type": "code",
      "execution_count": null,
      "metadata": {
        "id": "XsPSj2hPfhWa",
        "colab": {
          "base_uri": "https://localhost:8080/"
        },
        "outputId": "5add099f-8caa-4b60-9ef2-e0296f484b33"
      },
      "outputs": [
        {
          "output_type": "stream",
          "name": "stdout",
          "text": [
            "String\n",
            "it was the best of times it was the worst of times it was the age of wisdom it was the age of foolishness\n",
            "\n",
            "List\n",
            "\n",
            "['it', 'was', 'the', 'best', 'of', 'times', 'it', 'was', 'the', 'worst', 'of', 'times', 'it', 'was', 'the', 'age', 'of', 'wisdom', 'it', 'was', 'the', 'age', 'of', 'foolishness']\n",
            "\n",
            "Frequencies\n",
            "\n",
            "[4, 4, 4, 1, 4, 2, 4, 4, 4, 1, 4, 2, 4, 4, 4, 2, 4, 1, 4, 4, 4, 2, 4, 1]\n",
            "\n",
            "Pairs\n",
            "it was the best of times worst age wisdom foolishness\n"
          ]
        }
      ],
      "source": [
        "wordstring = 'it was the best of times it was the worst of times '\n",
        "wordstring += 'it was the age of wisdom it was the age of foolishness'\n",
        "\n",
        "wordlist = wordstring.split()\n",
        "\n",
        "wordfreq = []\n",
        "for w in wordlist:\n",
        "    wordfreq.append(wordlist.count(w))\n",
        "\n",
        "print(\"String\\n\" + wordstring +\"\\n\")\n",
        "print(\"List\\n\")\n",
        "print(wordlist) \n",
        "print()\n",
        "print(\"Frequencies\\n\")\n",
        "print(wordfreq)\n",
        "print()\n",
        "print(\"Pairs\\n\" + \" \".join(dict(zip(wordlist, wordfreq))))"
      ]
    },
    {
      "cell_type": "markdown",
      "metadata": {
        "id": "wMw5HXqpfhWa"
      },
      "source": [
        "Now, your job is to open up the url we mentioned a few cells above. Then output the word-frequency pairs in that url, sorted in order of descending frequency. In the case of ours Dickens example here, the output would look something like: [('of', 4), ('it', 4), ('the', 4), ('was', 4), ('age', 2), ('times', 2), ('foolishness', 1), ('worst', 1), ('wisdom', 1), ('best', 1)].\n",
        "\n",
        "Your job is to output a the word-frequency pairs for the url."
      ]
    },
    {
      "cell_type": "code",
      "execution_count": null,
      "metadata": {
        "id": "Elom_wrDfhWa",
        "colab": {
          "base_uri": "https://localhost:8080/"
        },
        "outputId": "9278aedd-960a-4046-a2d3-d83f15a4b87e"
      },
      "outputs": [
        {
          "output_type": "stream",
          "name": "stdout",
          "text": [
            "\n",
            "sorted output:\n",
            "[('a', 66), ('he', 29), ('the', 19), ('an', 15), ('in', 14), ('on', 13), ('Aggie', 9), ('of', 9), ('at', 8), ('is', 7), ('or', 7), ('and', 5), ('to', 5), ('The', 4), ('are', 3), ('Texas', 3), ('A&amp', 3), ('M', 3), ('often', 3), ('Aggies', 3), ('one', 3), ('tradition', 3), ('university', 3), ('campus', 3), ('unique', 2), ('Ring', 2), ('symbol', 2), ('long', 2), ('Century', 2), ('Tree', 2), ('over', 2), ('old', 2), ('Sul', 2), ('she', 2), ('This', 2), ('class', 2), ('Reveille', 2), ('be', 2), ('year', 2), ('plant', 2), ('Culture', 1), ('Terminology', 1), ('There', 1), ('many', 1), ('terms', 1), ('phrases', 1), ('that', 1), (\"you'll\", 1), ('hear', 1), ('using', 1), ('them', 1), ('when', 1), ('speaking', 1), ('another', 1), ('These', 1), ('words', 1), ('rooted', 1), ('history', 1), ('much', 1), ('like', 1), ('itself', 1), ('1889', 1), ('most', 1), ('recognizable', 1), ('Network', 1), ('creating', 1), ('instant', 1), ('connection', 1), ('between', 1), ('after', 1), ('they', 1), ('leave', 1), ('At', 1), ('100', 1), ('years', 1), ('has', 1), ('grown', 1), ('along', 1), ('with', 1), ('decades', 1), ('1918', 1), ('Pennies', 1), ('Sully', 1), ('Placing', 1), ('pennies', 1), ('base', 1), ('Ross', 1), ('statue', 1), ('just', 1), ('might', 1), ('give', 1), ('extra', 1), ('luck', 1), ('needs', 1), ('ace', 1), ('upcoming', 1), ('exam', 1), ('1926', 1), ('Elephant', 1), ('Walk', 1), ('which', 1), ('brings', 1), ('senior', 1), ('together', 1), ('for', 1), ('symbolic', 1), ('walk', 1), ('through', 1), ('oldest', 1), ('1931', 1), ('official', 1), ('mascot', 1), ('can', 1), ('seen', 1), ('attending', 1), ('events', 1), ('1982', 1), ('Big', 1), ('Event', 1), ('largest', 1), ('one-day', 1), ('student-run', 1), ('service', 1), ('project', 1), ('United', 1), ('States', 1), ('1991', 1), ('Replant', 1), ('Each', 1), ('help', 1), ('hundreds', 1), ('trees', 1), ('local', 1), ('parks', 1), ('schools', 1)]\n",
            "\n"
          ]
        },
        {
          "output_type": "stream",
          "name": "stderr",
          "text": [
            "/usr/local/lib/python3.8/dist-packages/urllib3/connectionpool.py:842: InsecureRequestWarning: Unverified HTTPS request is being made. Adding certificate verification is strongly advised. See: https://urllib3.readthedocs.io/en/latest/advanced-usage.html#ssl-warnings\n",
            "  warnings.warn((\n"
          ]
        }
      ],
      "source": [
        "# your code here\n",
        "\n",
        "import urllib3  # the lib that handles the url stuff\n",
        "\n",
        "url = \"https://www.tamu.edu/traditions/aggie-culture/\"\n",
        "\n",
        "# your code here: open the url. Hint: take a look at urllib3.PoolManager\n",
        "# your code here: now print out each line\n",
        "\n",
        "http=urllib3.PoolManager()\n",
        "content=http.request('GET', url)\n",
        "\n",
        "#print(content.status)\n",
        "\n",
        "print()\n",
        "data=content.data.decode('utf-8')\n",
        "data=data.split('\\n')\n",
        "stri=''\n",
        "for lines in data:\n",
        "\n",
        " if(lines.find('<h1>')!=-1):\n",
        "    hh1=lines.split('<h1>',1)\n",
        "    hh2=hh1[1].split('</h1>',1)\n",
        "    stri=stri+hh2[0]+' '\n",
        "   \n",
        " if(lines.find('<h2>')!=-1):\n",
        "    h1=lines.split('<h2>',1)\n",
        "    h2=h1[1].split('</h2>',1)\n",
        "    if(h2[0].find('<span>')!=-1):\n",
        "      h3=h2[0].replace('<span>', '\\n')\n",
        "      h3=h3.split('</span>')\n",
        "      stri=stri+h3[0]+' '\n",
        "    else:\n",
        "      stri=stri+h2[0]+' '\n",
        "    \n",
        " if(lines.find('<p>')!=-1):\n",
        "    s1=lines.split('<p>',1)\n",
        "    s2=s1[1].split('</p>',1)\n",
        "    stri=stri+s2[0]+' '\n",
        "    \n",
        "#print(stri)\n",
        "#stri.replace('', ',')\n",
        "import re\n",
        "wordlist=re.split('[; , . - \\n]',stri)\n",
        "\n",
        "#wordlist = stri.split()\n",
        "#print(type(wordlist[0]))\n",
        "\n",
        "wordfreq = []\n",
        "for w in wordlist:\n",
        "    wordfreq.append(stri.count(w))\n",
        "\n",
        "#print(\"String\\n\" + stri +\"\\n\")\n",
        "#print(\"List\\n\" + str(wordlist) + \"\\n\")\n",
        "#print(\"Frequencies\\n\")\n",
        "#print(wordfreq) \n",
        "#print()\n",
        "#print(\"Pairs\\n\")\n",
        "d=dict(zip(wordlist, wordfreq))\n",
        "sorted_d = sorted(d.items(), key=lambda x:x[1],reverse=True)\n",
        "sorted_d=sorted_d[1:]\n",
        "print(\"sorted output:\")\n",
        "print(sorted_d)\n",
        "print()\n",
        "\n",
        "\n"
      ]
    }
  ],
  "metadata": {
    "anaconda-cloud": {},
    "kernelspec": {
      "display_name": "Python 3",
      "language": "python",
      "name": "python3"
    },
    "language_info": {
      "codemirror_mode": {
        "name": "ipython",
        "version": 3
      },
      "file_extension": ".py",
      "mimetype": "text/x-python",
      "name": "python",
      "nbconvert_exporter": "python",
      "pygments_lexer": "ipython3",
      "version": "3.8.8"
    },
    "colab": {
      "provenance": []
    }
  },
  "nbformat": 4,
  "nbformat_minor": 0
}